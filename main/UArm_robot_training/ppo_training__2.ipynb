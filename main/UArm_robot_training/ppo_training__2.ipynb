{
 "cells": [
  {
   "cell_type": "code",
   "execution_count": null,
   "id": "b6cc8588",
   "metadata": {},
   "outputs": [],
   "source": []
  },
  {
   "cell_type": "code",
   "execution_count": null,
   "id": "439687ce",
   "metadata": {},
   "outputs": [],
   "source": []
  },
  {
   "cell_type": "code",
   "execution_count": 1,
   "id": "28e90438",
   "metadata": {},
   "outputs": [],
   "source": [
    "from stable_baselines3.common.callbacks import BaseCallback\n",
    "import numpy as np\n",
    "\n",
    "class RewardAndGoalLoggingCallback(BaseCallback):\n",
    "    def __init__(self, log_interval=20000, verbose=0):\n",
    "        super().__init__(verbose)\n",
    "        self.log_interval = log_interval\n",
    "        self.cumulative_reward = 0\n",
    "        self.step_counter = 0\n",
    "\n",
    "    def _on_step(self):\n",
    "        reward = self.locals[\"rewards\"][0]\n",
    "        self.cumulative_reward += reward\n",
    "        self.step_counter += 1\n",
    "\n",
    "        if self.step_counter % self.log_interval == 0:\n",
    "            # Get the goal_pos from the environment (VecEnv-safe)\n",
    "            goal_pos = self.training_env.get_attr(\"goal_pos\")[0]\n",
    "            ef_pos = self.training_env.get_attr(\"robot\")[0].get_joint_obs()[\"ee_pos\"]\n",
    "            print(f\"📈 Step {self.num_timesteps} | Reward (last {self.log_interval}): {round(self.cumulative_reward, 4)} | 🎯 Goal: {np.round(goal_pos, 3)},f🤖 EE Pos: {np.round(ef_pos, 3)} \")\n",
    "            self.cumulative_reward = 0\n",
    "\n",
    "        return True"
   ]
  },
  {
   "cell_type": "code",
   "execution_count": null,
   "id": "461bc1dc",
   "metadata": {},
   "outputs": [
    {
     "name": "stderr",
     "output_type": "stream",
     "text": [
      "pybullet build time: Jan 29 2025 23:16:28\n",
      "/home/fatduck/.local/lib/python3.10/site-packages/stable_baselines3/common/vec_env/patch_gym.py:49: UserWarning: You provided an OpenAI Gym environment. We strongly recommend transitioning to Gymnasium environments. Stable-Baselines3 is automatically wrapping your environments in a compatibility layer, which could potentially cause issues.\n",
      "  warnings.warn(\n",
      "/home/fatduck/.local/lib/python3.10/site-packages/stable_baselines3/common/on_policy_algorithm.py:150: UserWarning: You are trying to run PPO on the GPU, but it is primarily intended to run on the CPU when not using a CNN policy (you are using ActorCriticPolicy which should be a MlpPolicy). See https://github.com/DLR-RM/stable-baselines3/issues/1245 for more info. You can pass `device='cpu'` or `export CUDA_VISIBLE_DEVICES=` to force using the CPU.Note: The model will train, but the GPU utilization will be poor and the training might take longer than on CPU.\n",
      "  warnings.warn(\n"
     ]
    },
    {
     "name": "stdout",
     "output_type": "stream",
     "text": [
      "⏱️ Timeout at Step 500 | EE: [ 0.006 -0.082  0.316] | Goal: [ 0.109 -0.245  0.025]\n",
      "⏱️ Timeout at Step 500 | EE: [ 0.026 -0.157  0.199] | Goal: [ 0.042 -0.316  0.025]\n",
      "⏱️ Timeout at Step 500 | EE: [ 0.12  -0.256  0.196] | Goal: [ 0.038 -0.316  0.025]\n",
      "⏱️ Timeout at Step 500 | EE: [-0.078 -0.141  0.127] | Goal: [ 0.037 -0.323  0.025]\n"
     ]
    }
   ],
   "source": [
    "from stable_baselines3 import PPO\n",
    "from env_2 import UArmEnv\n",
    "\n",
    "# Create environment and model\n",
    "env = UArmEnv(render=False)\n",
    "model = PPO(\n",
    "    \"MlpPolicy\",\n",
    "    env,\n",
    "    ent_coef=0.005,        # Encourages broader exploration without overwhelming reward\n",
    "    n_steps=2048,          # Longer rollout → better credit assignment\n",
    "    batch_size=256,        # Good match for long rollouts\n",
    "    gae_lambda=0.95,       # Slightly longer-term reward tracking\n",
    "    gamma=0.99,            # Standard long-term discount\n",
    "    verbose=0\n",
    ")\n",
    "\n",
    "# Add logging callback\n",
    "reward_logger = RewardAndGoalLoggingCallback(log_interval=20000)\n",
    "\n",
    "# Train with logging\n",
    "model.learn(total_timesteps=1_000_000, callback=reward_logger)\n",
    "\n",
    "env.close()\n",
    "\n",
    "model.save(\"ppo_uarm_final_20\")\n"
   ]
  },
  {
   "cell_type": "code",
   "execution_count": null,
   "id": "5a0ee13d",
   "metadata": {},
   "outputs": [],
   "source": [
    "model.save(\"ppo_uarm\")\n",
    "1 000 000"
   ]
  }
 ],
 "metadata": {
  "kernelspec": {
   "display_name": "Python 3",
   "language": "python",
   "name": "python3"
  },
  "language_info": {
   "codemirror_mode": {
    "name": "ipython",
    "version": 3
   },
   "file_extension": ".py",
   "mimetype": "text/x-python",
   "name": "python",
   "nbconvert_exporter": "python",
   "pygments_lexer": "ipython3",
   "version": "3.10.12"
  }
 },
 "nbformat": 4,
 "nbformat_minor": 5
}
