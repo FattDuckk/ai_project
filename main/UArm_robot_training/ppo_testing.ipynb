{
 "cells": [
  {
   "cell_type": "code",
   "execution_count": 28,
   "id": "a27d7d14",
   "metadata": {},
   "outputs": [
    {
     "name": "stdout",
     "output_type": "stream",
     "text": [
      "b3Warning[examples/Importers/ImportURDFDemo/BulletUrdfImporter.cpp,126]:\n",
      "No inertial data for link, using mass=1, localinertiadiagonal = 1,1,1, identity local inertial frameb3Warning[examples/Importers/ImportURDFDemo/BulletUrdfImporter.cpp,126]:\n",
      "camera_link"
     ]
    }
   ],
   "source": [
    "from stable_baselines3 import PPO\n",
    "from env import UArmEnv  # This should be your custom env class\n",
    "\n",
    "# Load trained model\n",
    "model = PPO.load(\"ppo_uarm_35_2\")\n",
    "\n",
    "# Create the environment with rendering OFF\n",
    "env = UArmEnv(render=False)\n"
   ]
  },
  {
   "cell_type": "code",
   "execution_count": 29,
   "id": "85e416e6",
   "metadata": {},
   "outputs": [
    {
     "name": "stdout",
     "output_type": "stream",
     "text": [
      "b3Warning[examples/Importers/ImportURDFDemo/BulletUrdfImporter.cpp,126]:\n",
      "No inertial data for link, using mass=1, localinertiadiagonal = 1,1,1, identity local inertial frameGoal position set to: [ 0.0439885  -0.32034807  0.075     ]\n",
      "b3Warning[examples/Importers/ImportURDFDemo/BulletUrdfImporter.cpp,126]:\n",
      "camera_link🎉 Goal reached! EE: [ 0.035 -0.322  0.064] | Goal: [ 0.044 -0.32   0.075] | Reward: -0.0138\n"
     ]
    }
   ],
   "source": [
    "import imageio\n",
    "import numpy as np\n",
    "\n",
    "# You MUST import pybullet for capture_global_view to work\n",
    "import pybullet as p\n",
    "from env import capture_global_view  # if it's in a separate file\n",
    "# if it's inside env.py and not imported separately, just call it directly below\n",
    "\n",
    "frames = []\n",
    "obs = env.reset()\n",
    "done = False\n",
    "\n",
    "while not done:\n",
    "    action, _ = model.predict(obs)\n",
    "    obs, reward, done, _ = env.step(action)\n",
    "\n",
    "    frame = capture_global_view()  # ✅ Use your new camera view\n",
    "    frames.append(frame.astype(np.uint8))\n",
    "\n",
    "env.close()\n"
   ]
  },
  {
   "cell_type": "code",
   "execution_count": 30,
   "id": "8d2bac9c",
   "metadata": {},
   "outputs": [],
   "source": [
    "imageio.mimsave(\"uarm_global_view.mp4\", frames, fps=10)\n"
   ]
  },
  {
   "cell_type": "code",
   "execution_count": 31,
   "id": "43a46b72",
   "metadata": {},
   "outputs": [
    {
     "data": {
      "text/html": [
       "<video controls  >\n",
       " <source src=\"data:video/mp4;base64,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\" type=\"video/mp4\">\n",
       " Your browser does not support the video tag.\n",
       " </video>"
      ],
      "text/plain": [
       "<IPython.core.display.Video object>"
      ]
     },
     "execution_count": 31,
     "metadata": {},
     "output_type": "execute_result"
    }
   ],
   "source": [
    "from IPython.display import Video\n",
    "Video(\"uarm_global_view.mp4\", embed=True)\n"
   ]
  },
  {
   "cell_type": "code",
   "execution_count": 32,
   "id": "afedeed8",
   "metadata": {},
   "outputs": [],
   "source": [
    "# print(f\"Action: {np.round(action, 3)}\")\n",
    "# print(f\"Joint Angles: {np.round(joint_angles, 3)}\")"
   ]
  }
 ],
 "metadata": {
  "kernelspec": {
   "display_name": "Python 3",
   "language": "python",
   "name": "python3"
  },
  "language_info": {
   "codemirror_mode": {
    "name": "ipython",
    "version": 3
   },
   "file_extension": ".py",
   "mimetype": "text/x-python",
   "name": "python",
   "nbconvert_exporter": "python",
   "pygments_lexer": "ipython3",
   "version": "3.10.12"
  }
 },
 "nbformat": 4,
 "nbformat_minor": 5
}
