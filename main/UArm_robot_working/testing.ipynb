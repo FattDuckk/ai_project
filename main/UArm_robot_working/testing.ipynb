{
 "cells": [
  {
   "cell_type": "code",
   "execution_count": 1,
   "id": "a27d7d14",
   "metadata": {},
   "outputs": [
    {
     "name": "stderr",
     "output_type": "stream",
     "text": [
      "pybullet build time: Jan 29 2025 23:16:28\n",
      "/home/fatduck/.local/lib/python3.10/site-packages/stable_baselines3/common/on_policy_algorithm.py:150: UserWarning: You are trying to run PPO on the GPU, but it is primarily intended to run on the CPU when not using a CNN policy (you are using ActorCriticPolicy which should be a MlpPolicy). See https://github.com/DLR-RM/stable-baselines3/issues/1245 for more info. You can pass `device='cpu'` or `export CUDA_VISIBLE_DEVICES=` to force using the CPU.Note: The model will train, but the GPU utilization will be poor and the training might take longer than on CPU.\n",
      "  warnings.warn(\n"
     ]
    },
    {
     "name": "stdout",
     "output_type": "stream",
     "text": [
      "b3Warning[examples/Importers/ImportURDFDemo/BulletUrdfImporter.cpp,126]:\n",
      "No inertial data for link, using mass=1, localinertiadiagonal = 1,1,1, identity local inertial frameb3Warning[examples/Importers/ImportURDFDemo/BulletUrdfImporter.cpp,126]:\n",
      "camera_link"
     ]
    }
   ],
   "source": [
    "from stable_baselines3 import PPO\n",
    "from env import UArmEnv  # This should be your custom env class\n",
    "\n",
    "# Load trained model\n",
    "model = PPO.load(\"ppo_uarm_h_025\")\n",
    "\n",
    "# Create the environment with rendering OFF\n",
    "env = UArmEnv(render=False)\n"
   ]
  },
  {
   "cell_type": "code",
   "execution_count": 2,
   "id": "85e416e6",
   "metadata": {},
   "outputs": [
    {
     "name": "stdout",
     "output_type": "stream",
     "text": [
      "b3Warning[examples/Importers/ImportURDFDemo/BulletUrdfImporter.cpp,126]:\n",
      "No inertial data for link, using mass=1, localinertiadiagonal = 1,1,1, identity local inertial frameb3Warning[examples/Importers/ImportURDFDemo/BulletUrdfImporter.cpp,126]:\n",
      "camera_link"
     ]
    }
   ],
   "source": [
    "import imageio\n",
    "import numpy as np\n",
    "\n",
    "# You MUST import pybullet for capture_global_view to work\n",
    "import pybullet as p\n",
    "from env import capture_global_view  # if it's in a separate file\n",
    "# if it's inside env.py and not imported separately, just call it directly below\n",
    "\n",
    "frames = []\n",
    "obs = env.reset()\n",
    "done = False\n",
    "\n",
    "while not done:\n",
    "    action, _ = model.predict(obs)\n",
    "    obs, reward, done, _ = env.step(action)\n",
    "\n",
    "    frame = capture_global_view()  # ✅ Use your new camera view\n",
    "    frames.append(frame.astype(np.uint8))\n",
    "\n",
    "env.close()\n"
   ]
  },
  {
   "cell_type": "code",
   "execution_count": 3,
   "id": "8d2bac9c",
   "metadata": {},
   "outputs": [],
   "source": [
    "imageio.mimsave(\"uarm_global_view.mp4\", frames, fps=10)\n"
   ]
  },
  {
   "cell_type": "code",
   "execution_count": 4,
   "id": "43a46b72",
   "metadata": {},
   "outputs": [
    {
     "data": {
      "text/html": [
       "<video controls  >\n",
       " <source src=\"data:video/mp4;base64,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\" type=\"video/mp4\">\n",
       " Your browser does not support the video tag.\n",
       " </video>"
      ],
      "text/plain": [
       "<IPython.core.display.Video object>"
      ]
     },
     "execution_count": 4,
     "metadata": {},
     "output_type": "execute_result"
    }
   ],
   "source": [
    "from IPython.display import Video\n",
    "Video(\"uarm_global_view.mp4\", embed=True)\n"
   ]
  },
  {
   "cell_type": "code",
   "execution_count": 7,
   "id": "afedeed8",
   "metadata": {},
   "outputs": [
    {
     "name": "stdout",
     "output_type": "stream",
     "text": [
      "Action: [-1.     0.743  0.704 -0.673]\n"
     ]
    },
    {
     "ename": "NameError",
     "evalue": "name 'joint_angles' is not defined",
     "output_type": "error",
     "traceback": [
      "\u001b[0;31m---------------------------------------------------------------------------\u001b[0m",
      "\u001b[0;31mNameError\u001b[0m                                 Traceback (most recent call last)",
      "Cell \u001b[0;32mIn[7], line 2\u001b[0m\n\u001b[1;32m      1\u001b[0m \u001b[38;5;28mprint\u001b[39m(\u001b[38;5;124mf\u001b[39m\u001b[38;5;124m\"\u001b[39m\u001b[38;5;124mAction: \u001b[39m\u001b[38;5;132;01m{\u001b[39;00mnp\u001b[38;5;241m.\u001b[39mround(action,\u001b[38;5;250m \u001b[39m\u001b[38;5;241m3\u001b[39m)\u001b[38;5;132;01m}\u001b[39;00m\u001b[38;5;124m\"\u001b[39m)\n\u001b[0;32m----> 2\u001b[0m \u001b[38;5;28mprint\u001b[39m(\u001b[38;5;124mf\u001b[39m\u001b[38;5;124m\"\u001b[39m\u001b[38;5;124mJoint Angles: \u001b[39m\u001b[38;5;132;01m{\u001b[39;00mnp\u001b[38;5;241m.\u001b[39mround(\u001b[43mjoint_angles\u001b[49m,\u001b[38;5;250m \u001b[39m\u001b[38;5;241m3\u001b[39m)\u001b[38;5;132;01m}\u001b[39;00m\u001b[38;5;124m\"\u001b[39m)\n",
      "\u001b[0;31mNameError\u001b[0m: name 'joint_angles' is not defined"
     ]
    }
   ],
   "source": [
    "print(f\"Action: {np.round(action, 3)}\")\n",
    "print(f\"Joint Angles: {np.round(joint_angles, 3)}\")"
   ]
  }
 ],
 "metadata": {
  "kernelspec": {
   "display_name": "Python 3",
   "language": "python",
   "name": "python3"
  },
  "language_info": {
   "codemirror_mode": {
    "name": "ipython",
    "version": 3
   },
   "file_extension": ".py",
   "mimetype": "text/x-python",
   "name": "python",
   "nbconvert_exporter": "python",
   "pygments_lexer": "ipython3",
   "version": "3.10.12"
  }
 },
 "nbformat": 4,
 "nbformat_minor": 5
}
