{
 "cells": [
  {
   "cell_type": "code",
   "execution_count": 1,
   "id": "a27d7d14",
   "metadata": {},
   "outputs": [
    {
     "name": "stderr",
     "output_type": "stream",
     "text": [
      "pybullet build time: Jan 29 2025 23:16:28\n",
      "/home/fatduck/.local/lib/python3.10/site-packages/stable_baselines3/common/on_policy_algorithm.py:150: UserWarning: You are trying to run PPO on the GPU, but it is primarily intended to run on the CPU when not using a CNN policy (you are using ActorCriticPolicy which should be a MlpPolicy). See https://github.com/DLR-RM/stable-baselines3/issues/1245 for more info. You can pass `device='cpu'` or `export CUDA_VISIBLE_DEVICES=` to force using the CPU.Note: The model will train, but the GPU utilization will be poor and the training might take longer than on CPU.\n",
      "  warnings.warn(\n"
     ]
    },
    {
     "name": "stdout",
     "output_type": "stream",
     "text": [
      "b3Warning[examples/Importers/ImportURDFDemo/BulletUrdfImporter.cpp,126]:\n",
      "No inertial data for link, using mass=1, localinertiadiagonal = 1,1,1, identity local inertial frameb3Warning[examples/Importers/ImportURDFDemo/BulletUrdfImporter.cpp,126]:\n",
      "camera_link[INFO] End-effector set to link index 5\n"
     ]
    }
   ],
   "source": [
    "from stable_baselines3 import PPO\n",
    "from env import UArmEnv  # This should be your custom env class\n",
    "\n",
    "# Load trained model\n",
    "model = PPO.load(\"ppo_uarm\")\n",
    "\n",
    "# Create the environment with rendering OFF\n",
    "env = UArmEnv(render=False)\n"
   ]
  },
  {
   "cell_type": "code",
   "execution_count": 2,
   "id": "85e416e6",
   "metadata": {},
   "outputs": [
    {
     "name": "stdout",
     "output_type": "stream",
     "text": [
      "b3Warning[examples/Importers/ImportURDFDemo/BulletUrdfImporter.cpp,126]:\n",
      "No inertial data for link, using mass=1, localinertiadiagonal = 1,1,1, identity local inertial frameb3Warning[examples/Importers/ImportURDFDemo/BulletUrdfImporter.cpp,126]:\n",
      "camera_link[INFO] End-effector set to link index 5\n",
      "🎉 Goal reached! EE: [-0.194 -0.125  0.008] | Goal: [-0.212 -0.044  0.025] | Reward: -0.0849\n"
     ]
    }
   ],
   "source": [
    "import imageio\n",
    "import numpy as np\n",
    "\n",
    "# You MUST import pybullet for capture_global_view to work\n",
    "import pybullet as p\n",
    "from env import capture_global_view  # if it's in a separate file\n",
    "# if it's inside env.py and not imported separately, just call it directly below\n",
    "\n",
    "frames = []\n",
    "obs = env.reset()\n",
    "done = False\n",
    "\n",
    "while not done:\n",
    "    action, _ = model.predict(obs)\n",
    "    obs, reward, done, _ = env.step(action)\n",
    "\n",
    "    frame = capture_global_view()  # ✅ Use your new camera view\n",
    "    frames.append(frame.astype(np.uint8))\n",
    "\n",
    "env.close()\n"
   ]
  },
  {
   "cell_type": "code",
   "execution_count": 5,
   "id": "8d2bac9c",
   "metadata": {},
   "outputs": [],
   "source": [
    "imageio.mimsave(\"uarm_global_view.mp4\", frames, fps=10)\n"
   ]
  },
  {
   "cell_type": "code",
   "execution_count": 6,
   "id": "43a46b72",
   "metadata": {},
   "outputs": [
    {
     "data": {
      "text/html": [
       "<video controls  >\n",
       " <source src=\"data:video/mp4;base64,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\" type=\"video/mp4\">\n",
       " Your browser does not support the video tag.\n",
       " </video>"
      ],
      "text/plain": [
       "<IPython.core.display.Video object>"
      ]
     },
     "execution_count": 6,
     "metadata": {},
     "output_type": "execute_result"
    }
   ],
   "source": [
    "from IPython.display import Video\n",
    "Video(\"uarm_global_view.mp4\", embed=True)\n"
   ]
  },
  {
   "cell_type": "code",
   "execution_count": 7,
   "id": "afedeed8",
   "metadata": {},
   "outputs": [
    {
     "name": "stdout",
     "output_type": "stream",
     "text": [
      "Action: [-1.     0.743  0.704 -0.673]\n"
     ]
    },
    {
     "ename": "NameError",
     "evalue": "name 'joint_angles' is not defined",
     "output_type": "error",
     "traceback": [
      "\u001b[0;31m---------------------------------------------------------------------------\u001b[0m",
      "\u001b[0;31mNameError\u001b[0m                                 Traceback (most recent call last)",
      "Cell \u001b[0;32mIn[7], line 2\u001b[0m\n\u001b[1;32m      1\u001b[0m \u001b[38;5;28mprint\u001b[39m(\u001b[38;5;124mf\u001b[39m\u001b[38;5;124m\"\u001b[39m\u001b[38;5;124mAction: \u001b[39m\u001b[38;5;132;01m{\u001b[39;00mnp\u001b[38;5;241m.\u001b[39mround(action,\u001b[38;5;250m \u001b[39m\u001b[38;5;241m3\u001b[39m)\u001b[38;5;132;01m}\u001b[39;00m\u001b[38;5;124m\"\u001b[39m)\n\u001b[0;32m----> 2\u001b[0m \u001b[38;5;28mprint\u001b[39m(\u001b[38;5;124mf\u001b[39m\u001b[38;5;124m\"\u001b[39m\u001b[38;5;124mJoint Angles: \u001b[39m\u001b[38;5;132;01m{\u001b[39;00mnp\u001b[38;5;241m.\u001b[39mround(\u001b[43mjoint_angles\u001b[49m,\u001b[38;5;250m \u001b[39m\u001b[38;5;241m3\u001b[39m)\u001b[38;5;132;01m}\u001b[39;00m\u001b[38;5;124m\"\u001b[39m)\n",
      "\u001b[0;31mNameError\u001b[0m: name 'joint_angles' is not defined"
     ]
    }
   ],
   "source": [
    "print(f\"Action: {np.round(action, 3)}\")\n",
    "print(f\"Joint Angles: {np.round(joint_angles, 3)}\")"
   ]
  }
 ],
 "metadata": {
  "kernelspec": {
   "display_name": "Python 3",
   "language": "python",
   "name": "python3"
  },
  "language_info": {
   "codemirror_mode": {
    "name": "ipython",
    "version": 3
   },
   "file_extension": ".py",
   "mimetype": "text/x-python",
   "name": "python",
   "nbconvert_exporter": "python",
   "pygments_lexer": "ipython3",
   "version": "3.10.12"
  }
 },
 "nbformat": 4,
 "nbformat_minor": 5
}
