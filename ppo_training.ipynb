{
 "cells": [
  {
   "cell_type": "code",
   "execution_count": null,
   "id": "28e90438",
   "metadata": {},
   "outputs": [],
   "source": [
    "from stable_baselines3.common.callbacks import BaseCallback\n",
    "import numpy as np\n",
    "import datetime\n",
    "\n",
    "\n",
    "class RewardAndGoalLoggingCallback(BaseCallback):\n",
    "    def __init__(self, log_interval=20000, verbose=0):\n",
    "        super().__init__(verbose)\n",
    "        self.log_interval = log_interval\n",
    "        self.cumulative_reward = 0\n",
    "        self.step_counter = 0\n",
    "\n",
    "    def _on_step(self):\n",
    "        reward = self.locals[\"rewards\"][0]\n",
    "        self.cumulative_reward += reward\n",
    "        self.step_counter += 1\n",
    "\n",
    "        if self.step_counter % self.log_interval == 0:\n",
    "            # Get the goal_pos from the environment (VecEnv-safe)\n",
    "            curent_time = datetime.datetime.now().strftime(\"%Y-%m-%d %H:%M:%S\")\n",
    "            goal_pos = self.training_env.get_attr(\"goal_pos\")[0]\n",
    "            ef_pos = self.training_env.get_attr(\"robot\")[0].get_joint_obs()[\"ee_pos\"]\n",
    "            print(f\"time: {curent_time} 📈 Step {self.num_timesteps} | Reward (last {self.log_interval}): {round(self.cumulative_reward, 4)} | 🎯 Goal: {np.round(goal_pos, 3)}\")\n",
    "            self.cumulative_reward = 0\n",
    "\n",
    "        return True"
   ]
  },
  {
   "cell_type": "code",
   "execution_count": null,
   "id": "461bc1dc",
   "metadata": {},
   "outputs": [
    {
     "name": "stderr",
     "output_type": "stream",
     "text": [
      "pybullet build time: Jan 29 2025 23:16:28\n",
      "/home/fatduck/.local/lib/python3.10/site-packages/stable_baselines3/common/vec_env/patch_gym.py:49: UserWarning: You provided an OpenAI Gym environment. We strongly recommend transitioning to Gymnasium environments. Stable-Baselines3 is automatically wrapping your environments in a compatibility layer, which could potentially cause issues.\n",
      "  warnings.warn(\n",
      "/home/fatduck/.local/lib/python3.10/site-packages/stable_baselines3/common/on_policy_algorithm.py:150: UserWarning: You are trying to run PPO on the GPU, but it is primarily intended to run on the CPU when not using a CNN policy (you are using ActorCriticPolicy which should be a MlpPolicy). See https://github.com/DLR-RM/stable-baselines3/issues/1245 for more info. You can pass `device='cpu'` or `export CUDA_VISIBLE_DEVICES=` to force using the CPU.Note: The model will train, but the GPU utilization will be poor and the training might take longer than on CPU.\n",
      "  warnings.warn(\n"
     ]
    },
    {
     "name": "stdout",
     "output_type": "stream",
     "text": [
      "⏱️ Timeout at Step 500 | EE: [-0.001  0.006  0.307] | Goal: [ 0.109 -0.245  0.06 ]\n",
      "⏱️ Timeout at Step 500 | EE: [-0.049 -0.188  0.096] | Goal: [ 0.114 -0.321  0.025]\n",
      "⏱️ Timeout at Step 500 | EE: [ 0.162 -0.17   0.024] | Goal: [ 0.043 -0.25   0.06 ]\n",
      "⏱️ Timeout at Step 500 | EE: [ 0.074 -0.049  0.226] | Goal: [ 0.105 -0.249  0.025]\n",
      "⏱️ Timeout at Step 500 | EE: [ 0.029 -0.122  0.186] | Goal: [-0.169 -0.221  0.03 ]\n",
      "⏱️ Timeout at Step 500 | EE: [ 0.059 -0.206 -0.009] | Goal: [ 0.109 -0.318  0.06 ]\n",
      "⏱️ Timeout at Step 500 | EE: [-0.079 -0.061  0.216] | Goal: [ 0.106 -0.322  0.025]\n",
      "⏱️ Timeout at Step 500 | EE: [-0.004 -0.212 -0.004] | Goal: [ 0.111 -0.32   0.06 ]\n",
      "⏱️ Timeout at Step 500 | EE: [0.001 0.004 0.287] | Goal: [ 0.108 -0.319  0.06 ]\n",
      "⏱️ Timeout at Step 500 | EE: [-0.115 -0.125  0.096] | Goal: [-0.169 -0.151  0.03 ]\n",
      "⏱️ Timeout at Step 500 | EE: [ 0.113 -0.157 -0.009] | Goal: [-0.169 -0.221  0.03 ]\n",
      "⏱️ Timeout at Step 500 | EE: [ 0.    -0.019  0.343] | Goal: [ 0.043 -0.318  0.06 ]\n",
      "⏱️ Timeout at Step 500 | EE: [ 0.017 -0.226 -0.004] | Goal: [ 0.109 -0.248  0.025]\n",
      "⏱️ Timeout at Step 500 | EE: [ 0.028 -0.089  0.263] | Goal: [ 0.113 -0.322  0.025]\n",
      "⏱️ Timeout at Step 500 | EE: [ 0.036 -0.163  0.326] | Goal: [ 0.111 -0.25   0.06 ]\n",
      "⏱️ Timeout at Step 500 | EE: [-0.04  -0.139  0.129] | Goal: [-0.169 -0.221  0.03 ]\n",
      "⏱️ Timeout at Step 500 | EE: [ 0.007 -0.046  0.306] | Goal: [-0.169 -0.151  0.03 ]\n",
      "⏱️ Timeout at Step 500 | EE: [-0.077 -0.1    0.145] | Goal: [ 0.042 -0.252  0.025]\n",
      "⏱️ Timeout at Step 500 | EE: [ 0.072 -0.19   0.086] | Goal: [-0.169 -0.221  0.03 ]\n",
      "⏱️ Timeout at Step 500 | EE: [-0.179 -0.136  0.13 ] | Goal: [-0.169 -0.291  0.03 ]\n",
      "⏱️ Timeout at Step 500 | EE: [ 0.102 -0.182 -0.01 ] | Goal: [ 0.037 -0.252  0.06 ]\n",
      "⏱️ Timeout at Step 500 | EE: [ 0.161 -0.204 -0.007] | Goal: [ 0.043 -0.254  0.025]\n",
      "⏱️ Timeout at Step 500 | EE: [ 0.111 -0.176  0.053] | Goal: [ 0.111 -0.317  0.06 ]\n",
      "⏱️ Timeout at Step 500 | EE: [ 0.034 -0.209 -0.005] | Goal: [ 0.106 -0.317  0.025]\n",
      "⏱️ Timeout at Step 500 | EE: [ 0.008 -0.199  0.096] | Goal: [ 0.036 -0.254  0.06 ]\n",
      "⏱️ Timeout at Step 500 | EE: [-0.028 -0.242  0.015] | Goal: [ 0.109 -0.25   0.06 ]\n",
      "⏱️ Timeout at Step 500 | EE: [ 0.17  -0.117 -0.013] | Goal: [-0.169 -0.221  0.03 ]\n",
      "⏱️ Timeout at Step 500 | EE: [ 0.04  -0.158  0.111] | Goal: [-0.169 -0.291  0.03 ]\n",
      "⏱️ Timeout at Step 500 | EE: [-0.114 -0.186 -0.008] | Goal: [-0.169 -0.291  0.03 ]\n",
      "⏱️ Timeout at Step 500 | EE: [-0.107 -0.113  0.113] | Goal: [-0.169 -0.221  0.03 ]\n",
      "⏱️ Timeout at Step 500 | EE: [-0.032 -0.155  0.113] | Goal: [-0.169 -0.291  0.03 ]\n",
      "⏱️ Timeout at Step 500 | EE: [-0.152 -0.117  0.069] | Goal: [ 0.036 -0.321  0.06 ]\n",
      "📊 Step 20000 | ✅ Successes: 13 | ⏱️ Timeouts: 32\n",
      "time: 2025-06-19 23:14:51.953873 📈 Step 20000 | Reward (last 20000): -5212.5015 | 🎯 Goal: [ 0.043 -0.315  0.06 ]\n",
      "⏱️ Timeout at Step 500 | EE: [-0.097 -0.162 -0.008] | Goal: [ 0.043 -0.315  0.06 ]\n",
      "⏱️ Timeout at Step 500 | EE: [ 0.014 -0.016  0.331] | Goal: [ 0.107 -0.319  0.025]\n",
      "⏱️ Timeout at Step 500 | EE: [-0.004 -0.033  0.332] | Goal: [-0.169 -0.151  0.03 ]\n",
      "⏱️ Timeout at Step 500 | EE: [-0.054 -0.18   0.12 ] | Goal: [-0.169 -0.291  0.03 ]\n",
      "⏱️ Timeout at Step 500 | EE: [ 0.033 -0.329  0.038] | Goal: [ 0.107 -0.251  0.025]\n",
      "⏱️ Timeout at Step 500 | EE: [ 0.046 -0.142  0.235] | Goal: [ 0.106 -0.317  0.025]\n",
      "⏱️ Timeout at Step 500 | EE: [-0.24  -0.243  0.083] | Goal: [ 0.042 -0.251  0.025]\n",
      "⏱️ Timeout at Step 500 | EE: [-0.163 -0.142  0.054] | Goal: [ 0.038 -0.252  0.025]\n",
      "⏱️ Timeout at Step 500 | EE: [ 0.122 -0.158 -0.009] | Goal: [-0.169 -0.291  0.03 ]\n",
      "⏱️ Timeout at Step 500 | EE: [-0.058 -0.19   0.046] | Goal: [-0.169 -0.291  0.03 ]\n",
      "⏱️ Timeout at Step 500 | EE: [ 0.172 -0.242  0.164] | Goal: [ 0.04  -0.248  0.06 ]\n",
      "⏱️ Timeout at Step 500 | EE: [ 0.029 -0.204  0.04 ] | Goal: [ 0.039 -0.324  0.025]\n",
      "⏱️ Timeout at Step 500 | EE: [-0.001 -0.195 -0.01 ] | Goal: [ 0.037 -0.252  0.06 ]\n",
      "⏱️ Timeout at Step 500 | EE: [-0.126 -0.177  0.095] | Goal: [-0.169 -0.221  0.03 ]\n",
      "⏱️ Timeout at Step 500 | EE: [ 0.057 -0.101  0.17 ] | Goal: [-0.169 -0.151  0.03 ]\n",
      "⏱️ Timeout at Step 500 | EE: [-0.182 -0.181  0.143] | Goal: [ 0.041 -0.253  0.025]\n",
      "⏱️ Timeout at Step 500 | EE: [-0.149 -0.115  0.046] | Goal: [ 0.038 -0.318  0.025]\n",
      "⏱️ Timeout at Step 500 | EE: [ 0.026 -0.102  0.15 ] | Goal: [-0.169 -0.291  0.03 ]\n",
      "⏱️ Timeout at Step 500 | EE: [ 0.079 -0.191  0.053] | Goal: [ 0.114 -0.253  0.06 ]\n",
      "⏱️ Timeout at Step 500 | EE: [ 0.036 -0.123  0.197] | Goal: [-0.169 -0.291  0.03 ]\n",
      "⏱️ Timeout at Step 500 | EE: [-0.08  -0.27  -0.008] | Goal: [ 0.105 -0.247  0.025]\n",
      "⏱️ Timeout at Step 500 | EE: [ 0.157 -0.238  0.091] | Goal: [ 0.106 -0.315  0.06 ]\n"
     ]
    }
   ],
   "source": [
    "from stable_baselines3 import PPO\n",
    "from env import UArmEnv\n",
    "\n",
    "# Create environment and model\n",
    "env = UArmEnv(render=False)\n",
    "model = PPO(\n",
    "    \"MlpPolicy\",\n",
    "    env,\n",
    "    ent_coef=0.005,        # Encourages broader exploration without overwhelming reward\n",
    "    n_steps=2048,          # Longer rollout → better credit assignment\n",
    "    batch_size=256,        # Good match for long rollouts\n",
    "    gae_lambda=0.95,       # Slightly longer-term reward tracking\n",
    "    gamma=0.99,            # Standard long-term discount\n",
    "    verbose=0\n",
    ")\n",
    "\n",
    "# Add logging callback\n",
    "reward_logger = RewardAndGoalLoggingCallback(log_interval=20000)\n",
    "\n",
    "# Train with logging\n",
    "model.learn(total_timesteps=2_000_000, callback=reward_logger)\n",
    "\n",
    "env.close()\n",
    "\n",
    "model.save(\"ppo_uarm_final_25_2\")\n"
   ]
  },
  {
   "cell_type": "code",
   "execution_count": null,
   "id": "5a0ee13d",
   "metadata": {},
   "outputs": [],
   "source": [
    "model.save(\"ppo_uarm\")\n",
    "1 000 000"
   ]
  }
 ],
 "metadata": {
  "kernelspec": {
   "display_name": "Python 3",
   "language": "python",
   "name": "python3"
  },
  "language_info": {
   "codemirror_mode": {
    "name": "ipython",
    "version": 3
   },
   "file_extension": ".py",
   "mimetype": "text/x-python",
   "name": "python",
   "nbconvert_exporter": "python",
   "pygments_lexer": "ipython3",
   "version": "3.10.12"
  }
 },
 "nbformat": 4,
 "nbformat_minor": 5
}
